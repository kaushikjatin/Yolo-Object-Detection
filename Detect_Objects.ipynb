{
 "cells": [
  {
   "cell_type": "code",
   "execution_count": 1,
   "metadata": {},
   "outputs": [],
   "source": [
    "import cv2;\n",
    "import numpy as np;\n",
    "classes=[];"
   ]
  },
  {
   "cell_type": "code",
   "execution_count": 2,
   "metadata": {},
   "outputs": [],
   "source": [
    "def load_model():\n",
    "    net=cv2.dnn.readNet(\"yolov3.weights\",\"yolov3.cfg\")\n",
    "    with open(\"coco.names\",'r') as f:\n",
    "        classes=f.read().splitlines()\n",
    "    return net,classes;\n",
    "\n",
    "\n",
    "\n",
    "\n",
    "def process_image_for_model(frame):\n",
    "    height,width,channels=frame.shape;\n",
    "    blob=cv2.dnn.blobFromImage(frame,1/255,(416,416),(0,0,0),swapRB=True,crop=False)\n",
    "    return blob;\n",
    "    \n",
    "    \n",
    "    \n",
    "\n",
    "def prediction_by_model(net,frame1,frame,height,width):\n",
    "    boxes=[];\n",
    "    confidences=[];\n",
    "    class_ids=[];\n",
    "    net.setInput(frame1);\n",
    "    out_layer_names=net.getUnconnectedOutLayersNames();\n",
    "    layer_outputs=net.forward(out_layer_names)\n",
    "    for output in layer_outputs:\n",
    "        for detection in output:\n",
    "            scores=detection[5:];\n",
    "            class_id=np.argmax(scores);\n",
    "            temp_score=np.max(scores);\n",
    "            confidence=scores[class_id];\n",
    "            if confidence>0.1:\n",
    "                centre_x=int(detection[0]*width);\n",
    "                centre_y=int(detection[1]*height);\n",
    "                w=int(detection[2]*width);\n",
    "                h=int(detection[3]*height);\n",
    "                x=int(centre_x - w/2);\n",
    "                y=int(centre_y - h/2);\n",
    "                boxes.append([x,y,w,h]);\n",
    "                confidences.append(float(confidence));\n",
    "                class_ids.append(class_id);\n",
    "    indexes=cv2.dnn.NMSBoxes(boxes,confidences,0.2,0.4);\n",
    "    font=cv2.FONT_HERSHEY_PLAIN;\n",
    "    colors=np.random.uniform(0,255,size=(len(boxes),3));\n",
    "    if len(indexes)>0:\n",
    "        for i in indexes.flatten():\n",
    "            x,y,w,h=boxes[i];\n",
    "            label=str(classes[class_ids[i]]);\n",
    "            confidence=str(round(confidences[i],2))\n",
    "            color=colors[i];\n",
    "            cv2.rectangle(frame,(x,y),(x+w,y+h),color,2);\n",
    "            cv2.putText(frame,label+\" \"+confidence,(x,y+20),font,1.5,(0,0,0),2);\n",
    "    return frame;\n",
    "    \n",
    "                \n",
    "                \n",
    "    \n",
    "    \n",
    "\n",
    "def detect_objects(cap,net):\n",
    "    while True:\n",
    "        res,frame=cap.read();\n",
    "        if not res:\n",
    "            break;\n",
    "        height,width,channels=frame.shape;\n",
    "        frame1=process_image_for_model(frame);\n",
    "        frame=prediction_by_model(net,frame1,frame,height,width);\n",
    "        cv2.imshow(\"Predictions\",frame);\n",
    "        k=cv2.waitKey(10);\n",
    "        if k==ord('q'):\n",
    "            break;\n",
    "        \n",
    "    "
   ]
  },
  {
   "cell_type": "code",
   "execution_count": null,
   "metadata": {},
   "outputs": [],
   "source": [
    "net,classes=load_model();\n",
    "cap=cv2.VideoCapture(0);\n",
    "detect_objects(cap,net);\n",
    "cap.release();\n",
    "cv2.destroyAllWindows();"
   ]
  },
  {
   "cell_type": "code",
   "execution_count": 28,
   "metadata": {},
   "outputs": [],
   "source": [
    "cap.release();"
   ]
  },
  {
   "cell_type": "code",
   "execution_count": null,
   "metadata": {},
   "outputs": [],
   "source": []
  }
 ],
 "metadata": {
  "kernelspec": {
   "display_name": "Python 3",
   "language": "python",
   "name": "python3"
  },
  "language_info": {
   "codemirror_mode": {
    "name": "ipython",
    "version": 3
   },
   "file_extension": ".py",
   "mimetype": "text/x-python",
   "name": "python",
   "nbconvert_exporter": "python",
   "pygments_lexer": "ipython3",
   "version": "3.8.5"
  }
 },
 "nbformat": 4,
 "nbformat_minor": 4
}
